{
  "cells": [
    {
      "cell_type": "code",
      "execution_count": 1,
      "metadata": {
        "colab": {
          "base_uri": "https://localhost:8080/"
        },
        "id": "joIYIQ9fajhJ",
        "outputId": "1eb908c3-0e3c-4dd3-e968-3a33933d59fc"
      },
      "outputs": [
        {
          "name": "stdout",
          "output_type": "stream",
          "text": [
            "Mounted at /content/drive\n"
          ]
        }
      ],
      "source": [
        "from google.colab import drive\n",
        "drive.mount('/content/drive')"
      ]
    },
    {
      "cell_type": "code",
      "execution_count": 2,
      "metadata": {
        "id": "s81Lq2DTa6QL"
      },
      "outputs": [],
      "source": [
        "import os\n",
        "import numpy as np\n",
        "import librosa\n",
        "import matplotlib.pyplot as plt\n",
        "import seaborn as sns\n",
        "from sklearn.preprocessing import MinMaxScaler, LabelEncoder, StandardScaler\n",
        "from sklearn.decomposition import PCA\n",
        "from sklearn.metrics import classification_report, confusion_matrix, accuracy_score, f1_score\n",
        "from sklearn.model_selection import train_test_split\n",
        "from tensorflow.keras.models import Sequential\n",
        "from tensorflow.keras.layers import Dense, Dropout, BatchNormalization\n",
        "from tensorflow.keras.utils import to_categorical\n",
        "from tensorflow.keras.regularizers import l2, l1\n",
        "from tensorflow.keras.callbacks import EarlyStopping\n",
        "import pandas as pd\n"
      ]
    },
    {
      "cell_type": "code",
      "execution_count": 3,
      "metadata": {
        "id": "ivc6BZvAciho"
      },
      "outputs": [],
      "source": [
        "emotion_map = {\n",
        "    \"01\": \"neutral\",\n",
        "    \"02\": \"calm\",\n",
        "    \"03\": \"happy\",\n",
        "    \"04\": \"sad\",\n",
        "    \"05\": \"angry\",\n",
        "    \"06\": \"fearful\",\n",
        "    \"07\": \"disgust\",\n",
        "    \"08\": \"surprised\"\n",
        "}\n",
        "\n",
        "def get_emotion_from_filename(filename):\n",
        "    # Filename pattern: '03-01-04-02-02-02-12.wav'\n",
        "    parts = filename.split(\"-\")\n",
        "    emotion_id = parts[2]\n",
        "    return emotion_map.get(emotion_id)\n"
      ]
    },
    {
      "cell_type": "code",
      "execution_count": 4,
      "metadata": {
        "id": "jiCfDTQvcvl8"
      },
      "outputs": [],
      "source": [
        "def extract_features(file_path, duration=3, sr=22050):\n",
        "    try:\n",
        "        # Load audio with consistent sample rate\n",
        "        y, sr = librosa.load(file_path, sr=sr)\n",
        "\n",
        "        # Fix length: pad or clip to exactly 'duration' seconds\n",
        "        desired_length = duration * sr\n",
        "        if len(y) < desired_length:\n",
        "            y = np.pad(y, (0, desired_length - len(y)))\n",
        "        else:\n",
        "            y = y[:desired_length]\n",
        "\n",
        "        # Start feature list\n",
        "        features = []\n",
        "\n",
        "        # MFCC (40)\n",
        "        mfcc = librosa.feature.mfcc(y=y, sr=sr, n_mfcc=40)\n",
        "        features.extend(np.mean(mfcc, axis=1))\n",
        "\n",
        "        # Chroma (12)\n",
        "        stft = np.abs(librosa.stft(y))\n",
        "        chroma = librosa.feature.chroma_stft(S=stft, sr=sr)\n",
        "        features.extend(np.mean(chroma, axis=1))\n",
        "\n",
        "        # Mel Spectrogram (128)\n",
        "        mel = librosa.feature.melspectrogram(y=y, sr=sr)\n",
        "        features.extend(np.mean(mel, axis=1))\n",
        "\n",
        "        # Spectral Contrast (7)\n",
        "        contrast = librosa.feature.spectral_contrast(S=stft, sr=sr)\n",
        "        features.extend(np.mean(contrast, axis=1))\n",
        "\n",
        "        # Tonnetz (6)\n",
        "        tonnetz = librosa.feature.tonnetz(y=librosa.effects.harmonic(y), sr=sr)\n",
        "        features.extend(np.mean(tonnetz, axis=1))\n",
        "\n",
        "        # Sanity check (should be 193 features)\n",
        "        if len(features) != 193:\n",
        "            print(f\"⚠️ Feature shape mismatch for {file_path}: Got {len(features)}\")\n",
        "            return None\n",
        "\n",
        "        return np.array(features)\n",
        "\n",
        "    except Exception as e:\n",
        "        print(f\"❌ Error processing {file_path}: {e}\")\n",
        "        return None"
      ]
    },
    {
      "cell_type": "code",
      "execution_count": 5,
      "metadata": {
        "id": "3dTTjqpXc0bn"
      },
      "outputs": [],
      "source": [
        "data_path = '/content/drive/MyDrive/Audio_dataset'  # change if needed\n",
        "\n",
        "X, y = [], []\n",
        "\n",
        "parent_folders = ['Audio_Speech_Actors_01-24', 'Audio_Song_Actors_01-24']\n",
        "\n",
        "for parent in parent_folders:\n",
        "    parent_path = os.path.join(data_path, parent)\n",
        "    for actor_folder in os.listdir(parent_path):\n",
        "        actor_path = os.path.join(parent_path, actor_folder)\n",
        "        if not os.path.isdir(actor_path):\n",
        "            continue\n",
        "        for file in os.listdir(actor_path):\n",
        "            if file.endswith('.wav'):\n",
        "                full_path = os.path.join(actor_path, file)\n",
        "                emotion = get_emotion_from_filename(file)\n",
        "                features = extract_features(full_path)\n",
        "                if features is not None and emotion is not None:\n",
        "                    X.append(features)\n",
        "                    y.append(emotion)\n",
        "\n"
      ]
    },
    {
      "cell_type": "code",
      "execution_count": 6,
      "metadata": {
        "colab": {
          "base_uri": "https://localhost:8080/"
        },
        "id": "Twi42va0dEVk",
        "outputId": "50096723-8bd3-4761-853f-fc77bf87deea"
      },
      "outputs": [
        {
          "name": "stdout",
          "output_type": "stream",
          "text": [
            "✅ Total files loaded: 2452\n",
            "✅ Feature shape (example): (193,)\n",
            "✅ Unique emotions: {'angry', 'disgust', 'surprised', 'sad', 'neutral', 'calm', 'fearful', 'happy'}\n"
          ]
        }
      ],
      "source": [
        "print(\"✅ Total files loaded:\", len(X))\n",
        "print(\"✅ Feature shape (example):\", X[0].shape if X else 'None')\n",
        "print(\"✅ Unique emotions:\", set(y))"
      ]
    },
    {
      "cell_type": "code",
      "execution_count": 7,
      "metadata": {
        "colab": {
          "base_uri": "https://localhost:8080/"
        },
        "id": "V8A5O0xutNRJ",
        "outputId": "2d5ec520-600a-461d-c5d3-d788ca42fdb2"
      },
      "outputs": [
        {
          "name": "stdout",
          "output_type": "stream",
          "text": [
            "✅ Feature shape: (2452, 193)\n",
            "✅ Label shape: (2452,)\n"
          ]
        }
      ],
      "source": [
        "X = np.array(X)\n",
        "y = np.array(y)\n",
        "\n",
        "print(\"✅ Feature shape:\", X.shape)\n",
        "print(\"✅ Label shape:\", y.shape)"
      ]
    },
    {
      "cell_type": "code",
      "execution_count": 8,
      "metadata": {
        "colab": {
          "base_uri": "https://localhost:8080/"
        },
        "id": "WS1p9XssxFop",
        "outputId": "f39edfc5-2c25-479a-f5e1-303d372b01dc"
      },
      "outputs": [
        {
          "name": "stdout",
          "output_type": "stream",
          "text": [
            "✅ Train shape: (1961, 193)\n",
            "✅ Test shape: (491, 193)\n"
          ]
        }
      ],
      "source": [
        "le = LabelEncoder()\n",
        "y_encoded = le.fit_transform(y)\n",
        "y_onehot = to_categorical(y_encoded)\n",
        "\n",
        "X_train, X_test, y_train, y_test = train_test_split(\n",
        "    X, y_encoded, test_size=0.2, random_state=42, stratify=y_encoded\n",
        ")\n",
        "\n",
        "print(\"✅ Train shape:\", X_train.shape)\n",
        "print(\"✅ Test shape:\", X_test.shape)"
      ]
    },
    {
      "cell_type": "code",
      "execution_count": 9,
      "metadata": {
        "id": "odSTlkZM6-bb"
      },
      "outputs": [],
      "source": [
        "scaler = MinMaxScaler()\n",
        "X_train_scaled = scaler.fit_transform(X_train)\n",
        "X_test_scaled = scaler.transform(X_test)"
      ]
    },
    {
      "cell_type": "code",
      "execution_count": 84,
      "metadata": {
        "colab": {
          "base_uri": "https://localhost:8080/"
        },
        "id": "hKFjGcHG7BQp",
        "outputId": "a250a7b5-beac-44e7-972a-8a8adacccc66"
      },
      "outputs": [
        {
          "name": "stdout",
          "output_type": "stream",
          "text": [
            "✅ Final feature shape after PCA: (1961, 193)\n"
          ]
        }
      ],
      "source": [
        "\n",
        "pca = PCA(n_components=X_train.shape[1], svd_solver='full')\n",
        "X_train_pca = pca.fit_transform(X_train_scaled)\n",
        "X_test_pca = pca.transform(X_test_scaled)\n",
        "\n",
        "print(\"✅ Final feature shape after PCA:\", X_train_pca.shape)"
      ]
    },
    {
      "cell_type": "code",
      "execution_count": 91,
      "metadata": {
        "colab": {
          "base_uri": "https://localhost:8080/"
        },
        "id": "OchA7TixxSu4",
        "outputId": "21774423-5c34-428c-93bd-3eb2b6f3bd9e"
      },
      "outputs": [
        {
          "name": "stdout",
          "output_type": "stream",
          "text": [
            "Epoch 1/120\n"
          ]
        },
        {
          "name": "stderr",
          "output_type": "stream",
          "text": [
            "/usr/local/lib/python3.11/dist-packages/keras/src/layers/core/dense.py:87: UserWarning: Do not pass an `input_shape`/`input_dim` argument to a layer. When using Sequential models, prefer using an `Input(shape)` object as the first layer in the model instead.\n",
            "  super().__init__(activity_regularizer=activity_regularizer, **kwargs)\n"
          ]
        },
        {
          "name": "stdout",
          "output_type": "stream",
          "text": [
            "\u001b[1m62/62\u001b[0m \u001b[32m━━━━━━━━━━━━━━━━━━━━\u001b[0m\u001b[37m\u001b[0m \u001b[1m6s\u001b[0m 15ms/step - accuracy: 0.1654 - loss: 3.3559 - val_accuracy: 0.2077 - val_loss: 2.6362\n",
            "Epoch 2/120\n",
            "\u001b[1m62/62\u001b[0m \u001b[32m━━━━━━━━━━━━━━━━━━━━\u001b[0m\u001b[37m\u001b[0m \u001b[1m1s\u001b[0m 5ms/step - accuracy: 0.3110 - loss: 2.6084 - val_accuracy: 0.2485 - val_loss: 2.5672\n",
            "Epoch 3/120\n",
            "\u001b[1m62/62\u001b[0m \u001b[32m━━━━━━━━━━━━━━━━━━━━\u001b[0m\u001b[37m\u001b[0m \u001b[1m0s\u001b[0m 6ms/step - accuracy: 0.3588 - loss: 2.3488 - val_accuracy: 0.3116 - val_loss: 2.4549\n",
            "Epoch 4/120\n",
            "\u001b[1m62/62\u001b[0m \u001b[32m━━━━━━━━━━━━━━━━━━━━\u001b[0m\u001b[37m\u001b[0m \u001b[1m1s\u001b[0m 6ms/step - accuracy: 0.4757 - loss: 2.0637 - val_accuracy: 0.3442 - val_loss: 2.3331\n",
            "Epoch 5/120\n",
            "\u001b[1m62/62\u001b[0m \u001b[32m━━━━━━━━━━━━━━━━━━━━\u001b[0m\u001b[37m\u001b[0m \u001b[1m1s\u001b[0m 5ms/step - accuracy: 0.4861 - loss: 1.9972 - val_accuracy: 0.3931 - val_loss: 2.1785\n",
            "Epoch 6/120\n",
            "\u001b[1m62/62\u001b[0m \u001b[32m━━━━━━━━━━━━━━━━━━━━\u001b[0m\u001b[37m\u001b[0m \u001b[1m0s\u001b[0m 6ms/step - accuracy: 0.5261 - loss: 1.9221 - val_accuracy: 0.4725 - val_loss: 2.0006\n",
            "Epoch 7/120\n",
            "\u001b[1m62/62\u001b[0m \u001b[32m━━━━━━━━━━━━━━━━━━━━\u001b[0m\u001b[37m\u001b[0m \u001b[1m0s\u001b[0m 6ms/step - accuracy: 0.5435 - loss: 1.8205 - val_accuracy: 0.5560 - val_loss: 1.8339\n",
            "Epoch 8/120\n",
            "\u001b[1m62/62\u001b[0m \u001b[32m━━━━━━━━━━━━━━━━━━━━\u001b[0m\u001b[37m\u001b[0m \u001b[1m0s\u001b[0m 5ms/step - accuracy: 0.5460 - loss: 1.7917 - val_accuracy: 0.6069 - val_loss: 1.6888\n",
            "Epoch 9/120\n",
            "\u001b[1m62/62\u001b[0m \u001b[32m━━━━━━━━━━━━━━━━━━━━\u001b[0m\u001b[37m\u001b[0m \u001b[1m1s\u001b[0m 6ms/step - accuracy: 0.6229 - loss: 1.6306 - val_accuracy: 0.6558 - val_loss: 1.5581\n",
            "Epoch 10/120\n",
            "\u001b[1m62/62\u001b[0m \u001b[32m━━━━━━━━━━━━━━━━━━━━\u001b[0m\u001b[37m\u001b[0m \u001b[1m1s\u001b[0m 6ms/step - accuracy: 0.5807 - loss: 1.6193 - val_accuracy: 0.6599 - val_loss: 1.4769\n",
            "Epoch 11/120\n",
            "\u001b[1m62/62\u001b[0m \u001b[32m━━━━━━━━━━━━━━━━━━━━\u001b[0m\u001b[37m\u001b[0m \u001b[1m1s\u001b[0m 5ms/step - accuracy: 0.6352 - loss: 1.5552 - val_accuracy: 0.6680 - val_loss: 1.4254\n",
            "Epoch 12/120\n",
            "\u001b[1m62/62\u001b[0m \u001b[32m━━━━━━━━━━━━━━━━━━━━\u001b[0m\u001b[37m\u001b[0m \u001b[1m0s\u001b[0m 5ms/step - accuracy: 0.6587 - loss: 1.4825 - val_accuracy: 0.6660 - val_loss: 1.3989\n",
            "Epoch 13/120\n",
            "\u001b[1m62/62\u001b[0m \u001b[32m━━━━━━━━━━━━━━━━━━━━\u001b[0m\u001b[37m\u001b[0m \u001b[1m1s\u001b[0m 5ms/step - accuracy: 0.6610 - loss: 1.4520 - val_accuracy: 0.6904 - val_loss: 1.3580\n",
            "Epoch 14/120\n",
            "\u001b[1m62/62\u001b[0m \u001b[32m━━━━━━━━━━━━━━━━━━━━\u001b[0m\u001b[37m\u001b[0m \u001b[1m1s\u001b[0m 5ms/step - accuracy: 0.6680 - loss: 1.4427 - val_accuracy: 0.6904 - val_loss: 1.3448\n",
            "Epoch 15/120\n",
            "\u001b[1m62/62\u001b[0m \u001b[32m━━━━━━━━━━━━━━━━━━━━\u001b[0m\u001b[37m\u001b[0m \u001b[1m1s\u001b[0m 5ms/step - accuracy: 0.6993 - loss: 1.3780 - val_accuracy: 0.6986 - val_loss: 1.3173\n",
            "Epoch 16/120\n",
            "\u001b[1m62/62\u001b[0m \u001b[32m━━━━━━━━━━━━━━━━━━━━\u001b[0m\u001b[37m\u001b[0m \u001b[1m0s\u001b[0m 5ms/step - accuracy: 0.6830 - loss: 1.3587 - val_accuracy: 0.7108 - val_loss: 1.2985\n",
            "Epoch 17/120\n",
            "\u001b[1m62/62\u001b[0m \u001b[32m━━━━━━━━━━━━━━━━━━━━\u001b[0m\u001b[37m\u001b[0m \u001b[1m0s\u001b[0m 6ms/step - accuracy: 0.7039 - loss: 1.3200 - val_accuracy: 0.7128 - val_loss: 1.2835\n",
            "Epoch 18/120\n",
            "\u001b[1m62/62\u001b[0m \u001b[32m━━━━━━━━━━━━━━━━━━━━\u001b[0m\u001b[37m\u001b[0m \u001b[1m0s\u001b[0m 5ms/step - accuracy: 0.7237 - loss: 1.2986 - val_accuracy: 0.7128 - val_loss: 1.2549\n",
            "Epoch 19/120\n",
            "\u001b[1m62/62\u001b[0m \u001b[32m━━━━━━━━━━━━━━━━━━━━\u001b[0m\u001b[37m\u001b[0m \u001b[1m0s\u001b[0m 5ms/step - accuracy: 0.7249 - loss: 1.2568 - val_accuracy: 0.7271 - val_loss: 1.2233\n",
            "Epoch 20/120\n",
            "\u001b[1m62/62\u001b[0m \u001b[32m━━━━━━━━━━━━━━━━━━━━\u001b[0m\u001b[37m\u001b[0m \u001b[1m0s\u001b[0m 5ms/step - accuracy: 0.7396 - loss: 1.2437 - val_accuracy: 0.7088 - val_loss: 1.2309\n",
            "Epoch 21/120\n",
            "\u001b[1m62/62\u001b[0m \u001b[32m━━━━━━━━━━━━━━━━━━━━\u001b[0m\u001b[37m\u001b[0m \u001b[1m1s\u001b[0m 6ms/step - accuracy: 0.7270 - loss: 1.2409 - val_accuracy: 0.7189 - val_loss: 1.1968\n",
            "Epoch 22/120\n",
            "\u001b[1m62/62\u001b[0m \u001b[32m━━━━━━━━━━━━━━━━━━━━\u001b[0m\u001b[37m\u001b[0m \u001b[1m0s\u001b[0m 8ms/step - accuracy: 0.7621 - loss: 1.1446 - val_accuracy: 0.7291 - val_loss: 1.1999\n",
            "Epoch 23/120\n",
            "\u001b[1m62/62\u001b[0m \u001b[32m━━━━━━━━━━━━━━━━━━━━\u001b[0m\u001b[37m\u001b[0m \u001b[1m1s\u001b[0m 9ms/step - accuracy: 0.7580 - loss: 1.1555 - val_accuracy: 0.7352 - val_loss: 1.1937\n",
            "Epoch 24/120\n",
            "\u001b[1m62/62\u001b[0m \u001b[32m━━━━━━━━━━━━━━━━━━━━\u001b[0m\u001b[37m\u001b[0m \u001b[1m1s\u001b[0m 9ms/step - accuracy: 0.7824 - loss: 1.0708 - val_accuracy: 0.7291 - val_loss: 1.1732\n",
            "Epoch 25/120\n",
            "\u001b[1m62/62\u001b[0m \u001b[32m━━━━━━━━━━━━━━━━━━━━\u001b[0m\u001b[37m\u001b[0m \u001b[1m1s\u001b[0m 10ms/step - accuracy: 0.7814 - loss: 1.0650 - val_accuracy: 0.7291 - val_loss: 1.1866\n",
            "Epoch 26/120\n",
            "\u001b[1m62/62\u001b[0m \u001b[32m━━━━━━━━━━━━━━━━━━━━\u001b[0m\u001b[37m\u001b[0m \u001b[1m1s\u001b[0m 10ms/step - accuracy: 0.7734 - loss: 1.1235 - val_accuracy: 0.7475 - val_loss: 1.1496\n",
            "Epoch 27/120\n",
            "\u001b[1m62/62\u001b[0m \u001b[32m━━━━━━━━━━━━━━━━━━━━\u001b[0m\u001b[37m\u001b[0m \u001b[1m0s\u001b[0m 5ms/step - accuracy: 0.7774 - loss: 1.0556 - val_accuracy: 0.7393 - val_loss: 1.1392\n",
            "Epoch 28/120\n",
            "\u001b[1m62/62\u001b[0m \u001b[32m━━━━━━━━━━━━━━━━━━━━\u001b[0m\u001b[37m\u001b[0m \u001b[1m1s\u001b[0m 5ms/step - accuracy: 0.8067 - loss: 1.0172 - val_accuracy: 0.7536 - val_loss: 1.1383\n",
            "Epoch 29/120\n",
            "\u001b[1m62/62\u001b[0m \u001b[32m━━━━━━━━━━━━━━━━━━━━\u001b[0m\u001b[37m\u001b[0m \u001b[1m0s\u001b[0m 6ms/step - accuracy: 0.8146 - loss: 0.9923 - val_accuracy: 0.7475 - val_loss: 1.1443\n",
            "Epoch 30/120\n",
            "\u001b[1m62/62\u001b[0m \u001b[32m━━━━━━━━━━━━━━━━━━━━\u001b[0m\u001b[37m\u001b[0m \u001b[1m1s\u001b[0m 7ms/step - accuracy: 0.8325 - loss: 0.9529 - val_accuracy: 0.7576 - val_loss: 1.1165\n",
            "Epoch 31/120\n",
            "\u001b[1m62/62\u001b[0m \u001b[32m━━━━━━━━━━━━━━━━━━━━\u001b[0m\u001b[37m\u001b[0m \u001b[1m0s\u001b[0m 5ms/step - accuracy: 0.8103 - loss: 0.9762 - val_accuracy: 0.7536 - val_loss: 1.1020\n",
            "Epoch 32/120\n",
            "\u001b[1m62/62\u001b[0m \u001b[32m━━━━━━━━━━━━━━━━━━━━\u001b[0m\u001b[37m\u001b[0m \u001b[1m1s\u001b[0m 6ms/step - accuracy: 0.8362 - loss: 0.9310 - val_accuracy: 0.7882 - val_loss: 1.0829\n",
            "Epoch 33/120\n",
            "\u001b[1m62/62\u001b[0m \u001b[32m━━━━━━━━━━━━━━━━━━━━\u001b[0m\u001b[37m\u001b[0m \u001b[1m1s\u001b[0m 6ms/step - accuracy: 0.8411 - loss: 0.9302 - val_accuracy: 0.7780 - val_loss: 1.0870\n",
            "Epoch 34/120\n",
            "\u001b[1m62/62\u001b[0m \u001b[32m━━━━━━━━━━━━━━━━━━━━\u001b[0m\u001b[37m\u001b[0m \u001b[1m1s\u001b[0m 5ms/step - accuracy: 0.8499 - loss: 0.9001 - val_accuracy: 0.7760 - val_loss: 1.1288\n",
            "Epoch 35/120\n",
            "\u001b[1m62/62\u001b[0m \u001b[32m━━━━━━━━━━━━━━━━━━━━\u001b[0m\u001b[37m\u001b[0m \u001b[1m1s\u001b[0m 6ms/step - accuracy: 0.8442 - loss: 0.8966 - val_accuracy: 0.7902 - val_loss: 1.1034\n",
            "Epoch 36/120\n",
            "\u001b[1m62/62\u001b[0m \u001b[32m━━━━━━━━━━━━━━━━━━━━\u001b[0m\u001b[37m\u001b[0m \u001b[1m0s\u001b[0m 6ms/step - accuracy: 0.8417 - loss: 0.8827 - val_accuracy: 0.7739 - val_loss: 1.1241\n",
            "Epoch 37/120\n",
            "\u001b[1m62/62\u001b[0m \u001b[32m━━━━━━━━━━━━━━━━━━━━\u001b[0m\u001b[37m\u001b[0m \u001b[1m0s\u001b[0m 6ms/step - accuracy: 0.8564 - loss: 0.8693 - val_accuracy: 0.7800 - val_loss: 1.1303\n",
            "Epoch 38/120\n",
            "\u001b[1m62/62\u001b[0m \u001b[32m━━━━━━━━━━━━━━━━━━━━\u001b[0m\u001b[37m\u001b[0m \u001b[1m1s\u001b[0m 5ms/step - accuracy: 0.8555 - loss: 0.8583 - val_accuracy: 0.7780 - val_loss: 1.1103\n",
            "Epoch 39/120\n",
            "\u001b[1m62/62\u001b[0m \u001b[32m━━━━━━━━━━━━━━━━━━━━\u001b[0m\u001b[37m\u001b[0m \u001b[1m0s\u001b[0m 6ms/step - accuracy: 0.8783 - loss: 0.8324 - val_accuracy: 0.7780 - val_loss: 1.1184\n",
            "Epoch 40/120\n",
            "\u001b[1m62/62\u001b[0m \u001b[32m━━━━━━━━━━━━━━━━━━━━\u001b[0m\u001b[37m\u001b[0m \u001b[1m1s\u001b[0m 5ms/step - accuracy: 0.8679 - loss: 0.8466 - val_accuracy: 0.7862 - val_loss: 1.1195\n",
            "Epoch 41/120\n",
            "\u001b[1m62/62\u001b[0m \u001b[32m━━━━━━━━━━━━━━━━━━━━\u001b[0m\u001b[37m\u001b[0m \u001b[1m1s\u001b[0m 5ms/step - accuracy: 0.8587 - loss: 0.8614 - val_accuracy: 0.7862 - val_loss: 1.1137\n",
            "Epoch 42/120\n",
            "\u001b[1m62/62\u001b[0m \u001b[32m━━━━━━━━━━━━━━━━━━━━\u001b[0m\u001b[37m\u001b[0m \u001b[1m1s\u001b[0m 5ms/step - accuracy: 0.9010 - loss: 0.7770 - val_accuracy: 0.7943 - val_loss: 1.1164\n",
            "Epoch 43/120\n",
            "\u001b[1m62/62\u001b[0m \u001b[32m━━━━━━━━━━━━━━━━━━━━\u001b[0m\u001b[37m\u001b[0m \u001b[1m0s\u001b[0m 7ms/step - accuracy: 0.8725 - loss: 0.7980 - val_accuracy: 0.8024 - val_loss: 1.1079\n",
            "Epoch 44/120\n",
            "\u001b[1m62/62\u001b[0m \u001b[32m━━━━━━━━━━━━━━━━━━━━\u001b[0m\u001b[37m\u001b[0m \u001b[1m0s\u001b[0m 5ms/step - accuracy: 0.8832 - loss: 0.7645 - val_accuracy: 0.7902 - val_loss: 1.1242\n",
            "Epoch 45/120\n",
            "\u001b[1m62/62\u001b[0m \u001b[32m━━━━━━━━━━━━━━━━━━━━\u001b[0m\u001b[37m\u001b[0m \u001b[1m0s\u001b[0m 5ms/step - accuracy: 0.8878 - loss: 0.7797 - val_accuracy: 0.7984 - val_loss: 1.1119\n",
            "Epoch 46/120\n",
            "\u001b[1m62/62\u001b[0m \u001b[32m━━━━━━━━━━━━━━━━━━━━\u001b[0m\u001b[37m\u001b[0m \u001b[1m0s\u001b[0m 6ms/step - accuracy: 0.8928 - loss: 0.7656 - val_accuracy: 0.7882 - val_loss: 1.1361\n",
            "Epoch 47/120\n",
            "\u001b[1m62/62\u001b[0m \u001b[32m━━━━━━━━━━━━━━━━━━━━\u001b[0m\u001b[37m\u001b[0m \u001b[1m1s\u001b[0m 8ms/step - accuracy: 0.8984 - loss: 0.7482 - val_accuracy: 0.7841 - val_loss: 1.1342\n",
            "Epoch 48/120\n",
            "\u001b[1m62/62\u001b[0m \u001b[32m━━━━━━━━━━━━━━━━━━━━\u001b[0m\u001b[37m\u001b[0m \u001b[1m1s\u001b[0m 9ms/step - accuracy: 0.8872 - loss: 0.7554 - val_accuracy: 0.7841 - val_loss: 1.1169\n",
            "Epoch 49/120\n",
            "\u001b[1m62/62\u001b[0m \u001b[32m━━━━━━━━━━━━━━━━━━━━\u001b[0m\u001b[37m\u001b[0m \u001b[1m1s\u001b[0m 9ms/step - accuracy: 0.8995 - loss: 0.7194 - val_accuracy: 0.7963 - val_loss: 1.0862\n",
            "Epoch 50/120\n",
            "\u001b[1m62/62\u001b[0m \u001b[32m━━━━━━━━━━━━━━━━━━━━\u001b[0m\u001b[37m\u001b[0m \u001b[1m1s\u001b[0m 9ms/step - accuracy: 0.9042 - loss: 0.7309 - val_accuracy: 0.7882 - val_loss: 1.0870\n",
            "Epoch 51/120\n",
            "\u001b[1m62/62\u001b[0m \u001b[32m━━━━━━━━━━━━━━━━━━━━\u001b[0m\u001b[37m\u001b[0m \u001b[1m1s\u001b[0m 8ms/step - accuracy: 0.8958 - loss: 0.7389 - val_accuracy: 0.8208 - val_loss: 1.0652\n",
            "Epoch 52/120\n",
            "\u001b[1m62/62\u001b[0m \u001b[32m━━━━━━━━━━━━━━━━━━━━\u001b[0m\u001b[37m\u001b[0m \u001b[1m1s\u001b[0m 8ms/step - accuracy: 0.9018 - loss: 0.7162 - val_accuracy: 0.7902 - val_loss: 1.1069\n",
            "Epoch 53/120\n",
            "\u001b[1m62/62\u001b[0m \u001b[32m━━━━━━━━━━━━━━━━━━━━\u001b[0m\u001b[37m\u001b[0m \u001b[1m0s\u001b[0m 5ms/step - accuracy: 0.8930 - loss: 0.7401 - val_accuracy: 0.7902 - val_loss: 1.1055\n",
            "Epoch 54/120\n",
            "\u001b[1m62/62\u001b[0m \u001b[32m━━━━━━━━━━━━━━━━━━━━\u001b[0m\u001b[37m\u001b[0m \u001b[1m1s\u001b[0m 5ms/step - accuracy: 0.9068 - loss: 0.7122 - val_accuracy: 0.8004 - val_loss: 1.0576\n",
            "Epoch 55/120\n",
            "\u001b[1m62/62\u001b[0m \u001b[32m━━━━━━━━━━━━━━━━━━━━\u001b[0m\u001b[37m\u001b[0m \u001b[1m1s\u001b[0m 6ms/step - accuracy: 0.9113 - loss: 0.6926 - val_accuracy: 0.7923 - val_loss: 1.0991\n",
            "Epoch 56/120\n",
            "\u001b[1m62/62\u001b[0m \u001b[32m━━━━━━━━━━━━━━━━━━━━\u001b[0m\u001b[37m\u001b[0m \u001b[1m0s\u001b[0m 5ms/step - accuracy: 0.9152 - loss: 0.7007 - val_accuracy: 0.7984 - val_loss: 1.1125\n",
            "Epoch 57/120\n",
            "\u001b[1m62/62\u001b[0m \u001b[32m━━━━━━━━━━━━━━━━━━━━\u001b[0m\u001b[37m\u001b[0m \u001b[1m1s\u001b[0m 5ms/step - accuracy: 0.9013 - loss: 0.7209 - val_accuracy: 0.7882 - val_loss: 1.1378\n",
            "Epoch 58/120\n",
            "\u001b[1m62/62\u001b[0m \u001b[32m━━━━━━━━━━━━━━━━━━━━\u001b[0m\u001b[37m\u001b[0m \u001b[1m0s\u001b[0m 5ms/step - accuracy: 0.9213 - loss: 0.6742 - val_accuracy: 0.8045 - val_loss: 1.1221\n",
            "Epoch 59/120\n",
            "\u001b[1m62/62\u001b[0m \u001b[32m━━━━━━━━━━━━━━━━━━━━\u001b[0m\u001b[37m\u001b[0m \u001b[1m1s\u001b[0m 7ms/step - accuracy: 0.9130 - loss: 0.6667 - val_accuracy: 0.7841 - val_loss: 1.1593\n",
            "Epoch 60/120\n",
            "\u001b[1m62/62\u001b[0m \u001b[32m━━━━━━━━━━━━━━━━━━━━\u001b[0m\u001b[37m\u001b[0m \u001b[1m1s\u001b[0m 5ms/step - accuracy: 0.9289 - loss: 0.6407 - val_accuracy: 0.8045 - val_loss: 1.1450\n",
            "Epoch 61/120\n",
            "\u001b[1m62/62\u001b[0m \u001b[32m━━━━━━━━━━━━━━━━━━━━\u001b[0m\u001b[37m\u001b[0m \u001b[1m0s\u001b[0m 5ms/step - accuracy: 0.9163 - loss: 0.6574 - val_accuracy: 0.8024 - val_loss: 1.1174\n",
            "Epoch 62/120\n",
            "\u001b[1m62/62\u001b[0m \u001b[32m━━━━━━━━━━━━━━━━━━━━\u001b[0m\u001b[37m\u001b[0m \u001b[1m0s\u001b[0m 5ms/step - accuracy: 0.9066 - loss: 0.6917 - val_accuracy: 0.7882 - val_loss: 1.1766\n",
            "Epoch 63/120\n",
            "\u001b[1m62/62\u001b[0m \u001b[32m━━━━━━━━━━━━━━━━━━━━\u001b[0m\u001b[37m\u001b[0m \u001b[1m0s\u001b[0m 5ms/step - accuracy: 0.9221 - loss: 0.6786 - val_accuracy: 0.7760 - val_loss: 1.1317\n",
            "Epoch 64/120\n",
            "\u001b[1m62/62\u001b[0m \u001b[32m━━━━━━━━━━━━━━━━━━━━\u001b[0m\u001b[37m\u001b[0m \u001b[1m0s\u001b[0m 5ms/step - accuracy: 0.9097 - loss: 0.6897 - val_accuracy: 0.8024 - val_loss: 1.1119\n",
            "Epoch 65/120\n",
            "\u001b[1m62/62\u001b[0m \u001b[32m━━━━━━━━━━━━━━━━━━━━\u001b[0m\u001b[37m\u001b[0m \u001b[1m0s\u001b[0m 5ms/step - accuracy: 0.9247 - loss: 0.6448 - val_accuracy: 0.8024 - val_loss: 1.1276\n",
            "Epoch 66/120\n",
            "\u001b[1m62/62\u001b[0m \u001b[32m━━━━━━━━━━━━━━━━━━━━\u001b[0m\u001b[37m\u001b[0m \u001b[1m1s\u001b[0m 5ms/step - accuracy: 0.9319 - loss: 0.6366 - val_accuracy: 0.7943 - val_loss: 1.1193\n",
            "Epoch 67/120\n",
            "\u001b[1m62/62\u001b[0m \u001b[32m━━━━━━━━━━━━━━━━━━━━\u001b[0m\u001b[37m\u001b[0m \u001b[1m1s\u001b[0m 5ms/step - accuracy: 0.9337 - loss: 0.6401 - val_accuracy: 0.8086 - val_loss: 1.1109\n",
            "Epoch 68/120\n",
            "\u001b[1m62/62\u001b[0m \u001b[32m━━━━━━━━━━━━━━━━━━━━\u001b[0m\u001b[37m\u001b[0m \u001b[1m1s\u001b[0m 6ms/step - accuracy: 0.9316 - loss: 0.6462 - val_accuracy: 0.8004 - val_loss: 1.1704\n",
            "Epoch 69/120\n",
            "\u001b[1m62/62\u001b[0m \u001b[32m━━━━━━━━━━━━━━━━━━━━\u001b[0m\u001b[37m\u001b[0m \u001b[1m1s\u001b[0m 5ms/step - accuracy: 0.9203 - loss: 0.6706 - val_accuracy: 0.8004 - val_loss: 1.1587\n",
            "Epoch 70/120\n",
            "\u001b[1m62/62\u001b[0m \u001b[32m━━━━━━━━━━━━━━━━━━━━\u001b[0m\u001b[37m\u001b[0m \u001b[1m1s\u001b[0m 6ms/step - accuracy: 0.9340 - loss: 0.6167 - val_accuracy: 0.7800 - val_loss: 1.1774\n",
            "Epoch 71/120\n",
            "\u001b[1m62/62\u001b[0m \u001b[32m━━━━━━━━━━━━━━━━━━━━\u001b[0m\u001b[37m\u001b[0m \u001b[1m0s\u001b[0m 6ms/step - accuracy: 0.9289 - loss: 0.6242 - val_accuracy: 0.8045 - val_loss: 1.1457\n",
            "Epoch 72/120\n",
            "\u001b[1m62/62\u001b[0m \u001b[32m━━━━━━━━━━━━━━━━━━━━\u001b[0m\u001b[37m\u001b[0m \u001b[1m0s\u001b[0m 7ms/step - accuracy: 0.9333 - loss: 0.6058 - val_accuracy: 0.8004 - val_loss: 1.0940\n",
            "Epoch 73/120\n",
            "\u001b[1m62/62\u001b[0m \u001b[32m━━━━━━━━━━━━━━━━━━━━\u001b[0m\u001b[37m\u001b[0m \u001b[1m1s\u001b[0m 9ms/step - accuracy: 0.9414 - loss: 0.5987 - val_accuracy: 0.7841 - val_loss: 1.1589\n",
            "Epoch 74/120\n",
            "\u001b[1m62/62\u001b[0m \u001b[32m━━━━━━━━━━━━━━━━━━━━\u001b[0m\u001b[37m\u001b[0m \u001b[1m1s\u001b[0m 9ms/step - accuracy: 0.9289 - loss: 0.6238 - val_accuracy: 0.8004 - val_loss: 1.1332\n",
            "Epoch 75/120\n",
            "\u001b[1m62/62\u001b[0m \u001b[32m━━━━━━━━━━━━━━━━━━━━\u001b[0m\u001b[37m\u001b[0m \u001b[1m1s\u001b[0m 10ms/step - accuracy: 0.9283 - loss: 0.6344 - val_accuracy: 0.7902 - val_loss: 1.1675\n",
            "Epoch 76/120\n",
            "\u001b[1m62/62\u001b[0m \u001b[32m━━━━━━━━━━━━━━━━━━━━\u001b[0m\u001b[37m\u001b[0m \u001b[1m1s\u001b[0m 8ms/step - accuracy: 0.9318 - loss: 0.6513 - val_accuracy: 0.8065 - val_loss: 1.1359\n",
            "Epoch 77/120\n",
            "\u001b[1m62/62\u001b[0m \u001b[32m━━━━━━━━━━━━━━━━━━━━\u001b[0m\u001b[37m\u001b[0m \u001b[1m1s\u001b[0m 10ms/step - accuracy: 0.9384 - loss: 0.6184 - val_accuracy: 0.7780 - val_loss: 1.1500\n",
            "Epoch 78/120\n",
            "\u001b[1m62/62\u001b[0m \u001b[32m━━━━━━━━━━━━━━━━━━━━\u001b[0m\u001b[37m\u001b[0m \u001b[1m1s\u001b[0m 5ms/step - accuracy: 0.9330 - loss: 0.6209 - val_accuracy: 0.7984 - val_loss: 1.1586\n",
            "Epoch 79/120\n",
            "\u001b[1m62/62\u001b[0m \u001b[32m━━━━━━━━━━━━━━━━━━━━\u001b[0m\u001b[37m\u001b[0m \u001b[1m1s\u001b[0m 5ms/step - accuracy: 0.9273 - loss: 0.6224 - val_accuracy: 0.7821 - val_loss: 1.1890\n",
            "Epoch 80/120\n",
            "\u001b[1m62/62\u001b[0m \u001b[32m━━━━━━━━━━━━━━━━━━━━\u001b[0m\u001b[37m\u001b[0m \u001b[1m0s\u001b[0m 6ms/step - accuracy: 0.9219 - loss: 0.6380 - val_accuracy: 0.8086 - val_loss: 1.1551\n",
            "Epoch 81/120\n",
            "\u001b[1m62/62\u001b[0m \u001b[32m━━━━━━━━━━━━━━━━━━━━\u001b[0m\u001b[37m\u001b[0m \u001b[1m0s\u001b[0m 6ms/step - accuracy: 0.9282 - loss: 0.6138 - val_accuracy: 0.7923 - val_loss: 1.1663\n",
            "Epoch 82/120\n",
            "\u001b[1m62/62\u001b[0m \u001b[32m━━━━━━━━━━━━━━━━━━━━\u001b[0m\u001b[37m\u001b[0m \u001b[1m0s\u001b[0m 5ms/step - accuracy: 0.9303 - loss: 0.6177 - val_accuracy: 0.7719 - val_loss: 1.2332\n",
            "Epoch 83/120\n",
            "\u001b[1m62/62\u001b[0m \u001b[32m━━━━━━━━━━━━━━━━━━━━\u001b[0m\u001b[37m\u001b[0m \u001b[1m0s\u001b[0m 6ms/step - accuracy: 0.9367 - loss: 0.6080 - val_accuracy: 0.7862 - val_loss: 1.2154\n",
            "Epoch 84/120\n",
            "\u001b[1m62/62\u001b[0m \u001b[32m━━━━━━━━━━━━━━━━━━━━\u001b[0m\u001b[37m\u001b[0m \u001b[1m0s\u001b[0m 5ms/step - accuracy: 0.9310 - loss: 0.6301 - val_accuracy: 0.8045 - val_loss: 1.1865\n",
            "Epoch 85/120\n",
            "\u001b[1m62/62\u001b[0m \u001b[32m━━━━━━━━━━━━━━━━━━━━\u001b[0m\u001b[37m\u001b[0m \u001b[1m0s\u001b[0m 5ms/step - accuracy: 0.9337 - loss: 0.6170 - val_accuracy: 0.7780 - val_loss: 1.1988\n",
            "Epoch 86/120\n",
            "\u001b[1m62/62\u001b[0m \u001b[32m━━━━━━━━━━━━━━━━━━━━\u001b[0m\u001b[37m\u001b[0m \u001b[1m0s\u001b[0m 6ms/step - accuracy: 0.9429 - loss: 0.5729 - val_accuracy: 0.8086 - val_loss: 1.1651\n",
            "Epoch 87/120\n",
            "\u001b[1m62/62\u001b[0m \u001b[32m━━━━━━━━━━━━━━━━━━━━\u001b[0m\u001b[37m\u001b[0m \u001b[1m0s\u001b[0m 5ms/step - accuracy: 0.9411 - loss: 0.5787 - val_accuracy: 0.8167 - val_loss: 1.2137\n",
            "Epoch 88/120\n",
            "\u001b[1m62/62\u001b[0m \u001b[32m━━━━━━━━━━━━━━━━━━━━\u001b[0m\u001b[37m\u001b[0m \u001b[1m0s\u001b[0m 5ms/step - accuracy: 0.9458 - loss: 0.5628 - val_accuracy: 0.7963 - val_loss: 1.2139\n",
            "Epoch 89/120\n",
            "\u001b[1m62/62\u001b[0m \u001b[32m━━━━━━━━━━━━━━━━━━━━\u001b[0m\u001b[37m\u001b[0m \u001b[1m1s\u001b[0m 5ms/step - accuracy: 0.9373 - loss: 0.6191 - val_accuracy: 0.7760 - val_loss: 1.2204\n",
            "Epoch 90/120\n",
            "\u001b[1m62/62\u001b[0m \u001b[32m━━━━━━━━━━━━━━━━━━━━\u001b[0m\u001b[37m\u001b[0m \u001b[1m0s\u001b[0m 5ms/step - accuracy: 0.9297 - loss: 0.6134 - val_accuracy: 0.8065 - val_loss: 1.1671\n",
            "Epoch 91/120\n",
            "\u001b[1m62/62\u001b[0m \u001b[32m━━━━━━━━━━━━━━━━━━━━\u001b[0m\u001b[37m\u001b[0m \u001b[1m0s\u001b[0m 5ms/step - accuracy: 0.9432 - loss: 0.5649 - val_accuracy: 0.8065 - val_loss: 1.1232\n",
            "Epoch 92/120\n",
            "\u001b[1m62/62\u001b[0m \u001b[32m━━━━━━━━━━━━━━━━━━━━\u001b[0m\u001b[37m\u001b[0m \u001b[1m0s\u001b[0m 6ms/step - accuracy: 0.9410 - loss: 0.5769 - val_accuracy: 0.8024 - val_loss: 1.1391\n",
            "Epoch 93/120\n",
            "\u001b[1m62/62\u001b[0m \u001b[32m━━━━━━━━━━━━━━━━━━━━\u001b[0m\u001b[37m\u001b[0m \u001b[1m0s\u001b[0m 5ms/step - accuracy: 0.9315 - loss: 0.5965 - val_accuracy: 0.8106 - val_loss: 1.1017\n",
            "Epoch 94/120\n",
            "\u001b[1m62/62\u001b[0m \u001b[32m━━━━━━━━━━━━━━━━━━━━\u001b[0m\u001b[37m\u001b[0m \u001b[1m1s\u001b[0m 5ms/step - accuracy: 0.9428 - loss: 0.5869 - val_accuracy: 0.8126 - val_loss: 1.1380\n",
            "Epoch 95/120\n",
            "\u001b[1m62/62\u001b[0m \u001b[32m━━━━━━━━━━━━━━━━━━━━\u001b[0m\u001b[37m\u001b[0m \u001b[1m0s\u001b[0m 5ms/step - accuracy: 0.9423 - loss: 0.5755 - val_accuracy: 0.8126 - val_loss: 1.1316\n",
            "Epoch 96/120\n",
            "\u001b[1m62/62\u001b[0m \u001b[32m━━━━━━━━━━━━━━━━━━━━\u001b[0m\u001b[37m\u001b[0m \u001b[1m0s\u001b[0m 6ms/step - accuracy: 0.9398 - loss: 0.5826 - val_accuracy: 0.8208 - val_loss: 1.1339\n",
            "Epoch 97/120\n",
            "\u001b[1m62/62\u001b[0m \u001b[32m━━━━━━━━━━━━━━━━━━━━\u001b[0m\u001b[37m\u001b[0m \u001b[1m0s\u001b[0m 5ms/step - accuracy: 0.9525 - loss: 0.5617 - val_accuracy: 0.7963 - val_loss: 1.1628\n",
            "Epoch 98/120\n",
            "\u001b[1m62/62\u001b[0m \u001b[32m━━━━━━━━━━━━━━━━━━━━\u001b[0m\u001b[37m\u001b[0m \u001b[1m0s\u001b[0m 5ms/step - accuracy: 0.9432 - loss: 0.5684 - val_accuracy: 0.8004 - val_loss: 1.1455\n",
            "Epoch 99/120\n",
            "\u001b[1m62/62\u001b[0m \u001b[32m━━━━━━━━━━━━━━━━━━━━\u001b[0m\u001b[37m\u001b[0m \u001b[1m1s\u001b[0m 6ms/step - accuracy: 0.9350 - loss: 0.5958 - val_accuracy: 0.8086 - val_loss: 1.1871\n",
            "Epoch 100/120\n",
            "\u001b[1m62/62\u001b[0m \u001b[32m━━━━━━━━━━━━━━━━━━━━\u001b[0m\u001b[37m\u001b[0m \u001b[1m1s\u001b[0m 8ms/step - accuracy: 0.9199 - loss: 0.6452 - val_accuracy: 0.8086 - val_loss: 1.1564\n",
            "Epoch 101/120\n",
            "\u001b[1m62/62\u001b[0m \u001b[32m━━━━━━━━━━━━━━━━━━━━\u001b[0m\u001b[37m\u001b[0m \u001b[1m1s\u001b[0m 9ms/step - accuracy: 0.9321 - loss: 0.6099 - val_accuracy: 0.8167 - val_loss: 1.1620\n",
            "Epoch 102/120\n",
            "\u001b[1m62/62\u001b[0m \u001b[32m━━━━━━━━━━━━━━━━━━━━\u001b[0m\u001b[37m\u001b[0m \u001b[1m1s\u001b[0m 10ms/step - accuracy: 0.9461 - loss: 0.5649 - val_accuracy: 0.8106 - val_loss: 1.1393\n",
            "Epoch 103/120\n",
            "\u001b[1m62/62\u001b[0m \u001b[32m━━━━━━━━━━━━━━━━━━━━\u001b[0m\u001b[37m\u001b[0m \u001b[1m1s\u001b[0m 11ms/step - accuracy: 0.9356 - loss: 0.5998 - val_accuracy: 0.8065 - val_loss: 1.1356\n",
            "Epoch 104/120\n",
            "\u001b[1m62/62\u001b[0m \u001b[32m━━━━━━━━━━━━━━━━━━━━\u001b[0m\u001b[37m\u001b[0m \u001b[1m1s\u001b[0m 9ms/step - accuracy: 0.9480 - loss: 0.5799 - val_accuracy: 0.8086 - val_loss: 1.1514\n",
            "Epoch 105/120\n",
            "\u001b[1m62/62\u001b[0m \u001b[32m━━━━━━━━━━━━━━━━━━━━\u001b[0m\u001b[37m\u001b[0m \u001b[1m0s\u001b[0m 6ms/step - accuracy: 0.9491 - loss: 0.5632 - val_accuracy: 0.8330 - val_loss: 1.1027\n",
            "Epoch 106/120\n",
            "\u001b[1m62/62\u001b[0m \u001b[32m━━━━━━━━━━━━━━━━━━━━\u001b[0m\u001b[37m\u001b[0m \u001b[1m1s\u001b[0m 6ms/step - accuracy: 0.9485 - loss: 0.5600 - val_accuracy: 0.8126 - val_loss: 1.1377\n",
            "Epoch 107/120\n",
            "\u001b[1m62/62\u001b[0m \u001b[32m━━━━━━━━━━━━━━━━━━━━\u001b[0m\u001b[37m\u001b[0m \u001b[1m0s\u001b[0m 6ms/step - accuracy: 0.9567 - loss: 0.5427 - val_accuracy: 0.8248 - val_loss: 1.0723\n",
            "Epoch 108/120\n",
            "\u001b[1m62/62\u001b[0m \u001b[32m━━━━━━━━━━━━━━━━━━━━\u001b[0m\u001b[37m\u001b[0m \u001b[1m1s\u001b[0m 6ms/step - accuracy: 0.9547 - loss: 0.5585 - val_accuracy: 0.8228 - val_loss: 1.0920\n",
            "Epoch 109/120\n",
            "\u001b[1m62/62\u001b[0m \u001b[32m━━━━━━━━━━━━━━━━━━━━\u001b[0m\u001b[37m\u001b[0m \u001b[1m1s\u001b[0m 6ms/step - accuracy: 0.9588 - loss: 0.5272 - val_accuracy: 0.8248 - val_loss: 1.0832\n",
            "Epoch 110/120\n",
            "\u001b[1m62/62\u001b[0m \u001b[32m━━━━━━━━━━━━━━━━━━━━\u001b[0m\u001b[37m\u001b[0m \u001b[1m0s\u001b[0m 6ms/step - accuracy: 0.9485 - loss: 0.5613 - val_accuracy: 0.8310 - val_loss: 1.0890\n",
            "Epoch 111/120\n",
            "\u001b[1m62/62\u001b[0m \u001b[32m━━━━━━━━━━━━━━━━━━━━\u001b[0m\u001b[37m\u001b[0m \u001b[1m0s\u001b[0m 6ms/step - accuracy: 0.9576 - loss: 0.5365 - val_accuracy: 0.8167 - val_loss: 1.0869\n",
            "Epoch 112/120\n",
            "\u001b[1m62/62\u001b[0m \u001b[32m━━━━━━━━━━━━━━━━━━━━\u001b[0m\u001b[37m\u001b[0m \u001b[1m0s\u001b[0m 6ms/step - accuracy: 0.9451 - loss: 0.5473 - val_accuracy: 0.8147 - val_loss: 1.1291\n",
            "Epoch 113/120\n",
            "\u001b[1m62/62\u001b[0m \u001b[32m━━━━━━━━━━━━━━━━━━━━\u001b[0m\u001b[37m\u001b[0m \u001b[1m0s\u001b[0m 6ms/step - accuracy: 0.9511 - loss: 0.5641 - val_accuracy: 0.8167 - val_loss: 1.0816\n",
            "Epoch 114/120\n",
            "\u001b[1m62/62\u001b[0m \u001b[32m━━━━━━━━━━━━━━━━━━━━\u001b[0m\u001b[37m\u001b[0m \u001b[1m0s\u001b[0m 6ms/step - accuracy: 0.9498 - loss: 0.5376 - val_accuracy: 0.8126 - val_loss: 1.0868\n",
            "Epoch 115/120\n",
            "\u001b[1m62/62\u001b[0m \u001b[32m━━━━━━━━━━━━━━━━━━━━\u001b[0m\u001b[37m\u001b[0m \u001b[1m0s\u001b[0m 6ms/step - accuracy: 0.9567 - loss: 0.5212 - val_accuracy: 0.8248 - val_loss: 1.0637\n",
            "Epoch 116/120\n",
            "\u001b[1m62/62\u001b[0m \u001b[32m━━━━━━━━━━━━━━━━━━━━\u001b[0m\u001b[37m\u001b[0m \u001b[1m1s\u001b[0m 5ms/step - accuracy: 0.9516 - loss: 0.5259 - val_accuracy: 0.8065 - val_loss: 1.1402\n",
            "Epoch 117/120\n",
            "\u001b[1m62/62\u001b[0m \u001b[32m━━━━━━━━━━━━━━━━━━━━\u001b[0m\u001b[37m\u001b[0m \u001b[1m0s\u001b[0m 5ms/step - accuracy: 0.9505 - loss: 0.5464 - val_accuracy: 0.8167 - val_loss: 1.1290\n",
            "Epoch 118/120\n",
            "\u001b[1m62/62\u001b[0m \u001b[32m━━━━━━━━━━━━━━━━━━━━\u001b[0m\u001b[37m\u001b[0m \u001b[1m1s\u001b[0m 5ms/step - accuracy: 0.9491 - loss: 0.5513 - val_accuracy: 0.8106 - val_loss: 1.1480\n",
            "Epoch 119/120\n",
            "\u001b[1m62/62\u001b[0m \u001b[32m━━━━━━━━━━━━━━━━━━━━\u001b[0m\u001b[37m\u001b[0m \u001b[1m1s\u001b[0m 6ms/step - accuracy: 0.9561 - loss: 0.5321 - val_accuracy: 0.8208 - val_loss: 1.1312\n",
            "Epoch 120/120\n",
            "\u001b[1m62/62\u001b[0m \u001b[32m━━━━━━━━━━━━━━━━━━━━\u001b[0m\u001b[37m\u001b[0m \u001b[1m1s\u001b[0m 5ms/step - accuracy: 0.9435 - loss: 0.5808 - val_accuracy: 0.8350 - val_loss: 1.1105\n"
          ]
        }
      ],
      "source": [
        "from tensorflow.keras.models import Sequential\n",
        "from tensorflow.keras.layers import Dense, Dropout, BatchNormalization\n",
        "from tensorflow.keras.regularizers import l2,l1_l2\n",
        "from tensorflow.keras.losses import CategoricalCrossentropy,SparseCategoricalCrossentropy\n",
        "from tensorflow.keras.callbacks import EarlyStopping, ReduceLROnPlateau\n",
        "from tensorflow.keras.optimizers import Adam, AdamW\n",
        "\n",
        "\n",
        "early_stop = EarlyStopping(\n",
        "    monitor='val_accuracy',\n",
        "    patience=10,\n",
        "    restore_best_weights=True,\n",
        "    verbose=1\n",
        ")\n",
        "\n",
        "lr_scheduler = ReduceLROnPlateau(\n",
        "    monitor='val_accuracy',\n",
        "    patience=5,\n",
        "    factor=0.5,\n",
        "    verbose=1\n",
        ")\n",
        "\n",
        "loss_fn = SparseCategoricalCrossentropy()\n",
        "\n",
        "model = Sequential([\n",
        "    Dense(256, activation='relu', input_shape=(X_train_pca.shape[1],), kernel_regularizer=l1_l2(l1=0.0001,l2=0.0001)),\n",
        "    BatchNormalization(),  # Optional, uncomment to try\n",
        "    Dropout(0.4),\n",
        "\n",
        "    Dense(128, activation='relu', kernel_regularizer=l1_l2(l1=0.0001,l2=0.0001)),\n",
        "    BatchNormalization(),\n",
        "    Dropout(0.4),\n",
        "\n",
        "    Dense(64, activation='relu', kernel_regularizer=l1_l2(l1=0.0001,l2=0.0001)),\n",
        "    BatchNormalization(),\n",
        "    Dropout(0.4),\n",
        "\n",
        "    Dense(8, activation='softmax')  # 8 emotion classes\n",
        "])\n",
        "\n",
        "model.compile(loss=loss_fn, optimizer=Adam(learning_rate=0.001), metrics=['accuracy'])\n",
        "history = model.fit(X_train_pca, y_train, validation_data=[X_test_pca,y_test], epochs=120,batch_size=32,verbose=1)\n"
      ]
    },
    {
      "cell_type": "code",
      "execution_count": 92,
      "metadata": {
        "colab": {
          "base_uri": "https://localhost:8080/",
          "height": 472
        },
        "id": "OFQbG-x4z0Xa",
        "outputId": "ca0e171c-21f4-4872-b74c-6ef79c122d4b"
      },
      "outputs": [
        {
          "data": {
            "image/png": "[encoded data removed]",
            "text/plain": [
              "<Figure size 640x480 with 1 Axes>"
            ]
          },
          "metadata": {},
          "output_type": "display_data"
        }
      ],
      "source": [
        "plt.plot(history.history['accuracy'], label='Train Accuracy')\n",
        "plt.plot(history.history['val_accuracy'], label='Validation Accuracy')\n",
        "plt.title('Training vs Validation Accuracy')\n",
        "plt.xlabel('Epoch')\n",
        "plt.ylabel('Accuracy')\n",
        "plt.legend()\n",
        "plt.grid(True)\n",
        "plt.show()"
      ]
    },
    {
      "cell_type": "code",
      "execution_count": 93,
      "metadata": {
        "colab": {
          "base_uri": "https://localhost:8080/"
        },
        "id": "9S_6g6YAVEiO",
        "outputId": "342d5c28-40a7-4c6c-8e34-4f020b82164f"
      },
      "outputs": [
        {
          "name": "stdout",
          "output_type": "stream",
          "text": [
            "\u001b[1m16/16\u001b[0m \u001b[32m━━━━━━━━━━━━━━━━━━━━\u001b[0m\u001b[37m\u001b[0m \u001b[1m0s\u001b[0m 9ms/step\n",
            "(491, 8)\n",
            "              precision    recall  f1-score   support\n",
            "\n",
            "       angry       0.82      0.92      0.87        75\n",
            "        calm       0.89      0.91      0.90        75\n",
            "     disgust       0.86      0.77      0.81        39\n",
            "     fearful       0.78      0.79      0.78        75\n",
            "       happy       0.87      0.80      0.83        75\n",
            "     neutral       0.81      0.79      0.80        38\n",
            "         sad       0.79      0.83      0.81        75\n",
            "   surprised       0.89      0.82      0.85        39\n",
            "\n",
            "    accuracy                           0.84       491\n",
            "   macro avg       0.84      0.83      0.83       491\n",
            "weighted avg       0.84      0.84      0.83       491\n",
            "\n",
            "✅ Test Accuracy: 0.8350\n"
          ]
        }
      ],
      "source": [
        "# If you already called .predict earlier:\n",
        "y_pred_proba = model.predict(X_test_pca)\n",
        "\n",
        "# Now check if it's 2D\n",
        "print(y_pred_proba.shape)  # Should be (num_samples, num_classes)\n",
        "\n",
        "# Convert softmax probabilities → class labels\n",
        "y_pred = np.argmax(y_pred_proba, axis=1)\n",
        "print(classification_report(y_test, y_pred, target_names=le.classes_))\n",
        "print(f\"✅ Test Accuracy: {accuracy_score(y_test, y_pred):.4f}\")"
      ]
    },
    {
      "cell_type": "code",
      "execution_count": 94,
      "metadata": {
        "colab": {
          "base_uri": "https://localhost:8080/",
          "height": 641
        },
        "id": "Vw9NGeEWlIHb",
        "outputId": "600c12ed-bd77-4007-f17f-f5bfb204daab"
      },
      "outputs": [
        {
          "data": {
            "image/png": "[encoded data removed]",
            "text/plain": [
              "<Figure size 1000x700 with 2 Axes>"
            ]
          },
          "metadata": {},
          "output_type": "display_data"
        }
      ],
      "source": [
        "\n",
        "cm = confusion_matrix(y_test, y_pred)\n",
        "plt.figure(figsize=(10, 7))\n",
        "sns.heatmap(cm, annot=True, fmt='d', cmap='Blues', xticklabels=le.classes_, yticklabels=le.classes_)\n",
        "plt.xlabel('Predicted')\n",
        "plt.ylabel('True')\n",
        "plt.title('Confusion Matrix')\n",
        "plt.show()\n"
      ]
    },
    {
      "cell_type": "code",
      "execution_count": 101,
      "metadata": {
        "id": "Wf2AotVVcrvC"
      },
      "outputs": [],
      "source": [
        "model.save('/content/drive/MyDrive/SER.keras')"
      ]
    },
    {
      "cell_type": "code",
      "execution_count": 98,
      "metadata": {
        "colab": {
          "base_uri": "https://localhost:8080/"
        },
        "id": "0DN5W54Bc9Km",
        "outputId": "836f685e-79ab-4e23-a193-d2ded8f9be71"
      },
      "outputs": [
        {
          "name": "stdout",
          "output_type": "stream",
          "text": [
            "cp: missing destination file operand after '/content/SER.keras/content/drive/MyDrive/'\n",
            "Try 'cp --help' for more information.\n"
          ]
        }
      ],
      "source": [
        "!cp /content/SER.keras/content/drive/MyDrive/"
      ]
    },
    {
      "cell_type": "markdown",
      "metadata": {
        "id": "AMnvIl_yMsZb"
      },
      "source": []
    },
    {
      "cell_type": "code",
      "execution_count": null,
      "metadata": {
        "id": "Y2no1wAJkNbk"
      },
      "outputs": [],
      "source": []
    }
  ],
  "metadata": {
    "colab": {
      "provenance": []
    },
    "kernelspec": {
      "display_name": "Python 3",
      "name": "python3"
    },
    "language_info": {
      "name": "python"
    }
  },
  "nbformat": 4,
  "nbformat_minor": 0
}
